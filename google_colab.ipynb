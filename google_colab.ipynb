{
 "cells": [
  {
   "cell_type": "markdown",
   "metadata": {
    "id": "WAJ7lA2wuvR8"
   },
   "source": [
    "# 运行教程\n",
    "\n",
    "1. 点击“修改” -> \"笔记本设置\" -> \"硬件加速器GPU\" -> 保存\n",
    "<img src=\"https://z3.ax1x.com/2021/03/30/ciQWWV.png\">\n",
    "\n",
    "2. 点左侧文件夹图标，上传视频文件，复制上传的视频路径\n",
    "\n",
    "<img src=\"https://z3.ax1x.com/2021/03/30/cilvhq.png\">\n",
    "\n",
    "3. 运行代码， 输入粘贴的视频路径\n",
    "\n",
    "\n"
   ]
  },
  {
   "cell_type": "markdown",
   "metadata": {
    "id": "_jPi_FBwyZyr"
   },
   "source": [
    "查看是否有GPU"
   ]
  },
  {
   "cell_type": "code",
   "execution_count": null,
   "metadata": {
    "id": "eHPHc_Bheo-j"
   },
   "outputs": [],
   "source": [
    "!nvidia-smi"
   ]
  },
  {
   "cell_type": "code",
   "execution_count": null,
   "metadata": {
    "id": "TkQKKGKZkkT2"
   },
   "outputs": [],
   "source": [
    "!nvcc -V"
   ]
  },
  {
   "cell_type": "markdown",
   "metadata": {
    "id": "_85O6zgPyhto"
   },
   "source": [
    "# 安装依赖"
   ]
  },
  {
   "cell_type": "code",
   "execution_count": null,
   "metadata": {
    "id": "ICeq0T1FeqjT"
   },
   "outputs": [],
   "source": [
    "!git clone --depth=1 https://github.com/zhenyu-whu/video-subtitle-extractor.git"
   ]
  },
  {
   "cell_type": "code",
   "execution_count": null,
   "metadata": {
    "id": "GHutEWynkMKR"
   },
   "outputs": [],
   "source": [
    "cd video-subtitle-extractor"
   ]
  },
  {
   "cell_type": "code",
   "execution_count": null,
   "metadata": {
    "id": "ynJydzo1kMKR"
   },
   "outputs": [],
   "source": [
    "!pip install -r requirements_gpu.txt"
   ]
  },
  {
   "cell_type": "code",
   "execution_count": null,
   "metadata": {
    "id": "3-GdvmaGl-aF"
   },
   "outputs": [],
   "source": [
    "!pip install paddlepaddle-gpu==2.4.2.post117 -f https://www.paddlepaddle.org.cn/whl/linux/mkl/avx/stable.html"
   ]
  },
  {
   "cell_type": "markdown",
   "metadata": {
    "id": "SGb0i3tPyw9Q"
   },
   "source": [
    "# 运行程序"
   ]
  },
  {
   "cell_type": "markdown",
   "metadata": {},
   "source": [
    "输入视频路径，如：/content/video-subtitle-extractor/test/test_cn2.mp4\n",
    "\n",
    "输入字幕区域，如：842 1069 72 1368"
   ]
  },
  {
   "cell_type": "code",
   "execution_count": null,
   "metadata": {
    "id": "B2MPjMOOgGbD"
   },
   "outputs": [],
   "source": [
    "!python ./backend/main.py"
   ]
  }
 ],
 "metadata": {
  "accelerator": "GPU",
  "colab": {
   "collapsed_sections": [],
   "name": "video-subtitle-extractor.ipynb",
   "provenance": []
  },
  "kernelspec": {
   "display_name": "Python 3 (ipykernel)",
   "language": "python",
   "name": "python3"
  },
  "language_info": {
   "codemirror_mode": {
    "name": "ipython",
    "version": 3
   },
   "file_extension": ".py",
   "mimetype": "text/x-python",
   "name": "python",
   "nbconvert_exporter": "python",
   "pygments_lexer": "ipython3",
   "version": "3.8.5"
  }
 },
 "nbformat": 4,
 "nbformat_minor": 1
}
